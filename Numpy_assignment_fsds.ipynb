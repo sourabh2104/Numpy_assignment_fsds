{
 "cells": [
  {
   "cell_type": "code",
   "execution_count": 1,
   "id": "b16abacf-dfa9-4dfd-b824-0254601ba043",
   "metadata": {},
   "outputs": [],
   "source": [
    "# Numpy Assignment!!"
   ]
  },
  {
   "cell_type": "markdown",
   "id": "d810a1b3-6f90-47c5-9282-aa24b91c70da",
   "metadata": {},
   "source": [
    "# 1. What is a Python library? Why ^o we use Python libraries?\n",
    "\n",
    "\n",
    "A Python library is a collection of pre-written Python code that provides functionalities to perform specific tasks. These libraries contain reusable modules and functions that help developers save time and effort by leveraging existing code rather than writing everything from scratch.\n",
    "\n",
    "We use Python libraries for several reasons:\n",
    "\n",
    "Efficiency: Libraries provide pre-written code for common tasks, which saves time and effort for developers. Instead of reinventing the wheel, developers can focus on solving the specific problem at hand.\n",
    "\n",
    "Functionality: Python libraries offer a wide range of functionalities, from basic operations like mathematical calculations to complex tasks like machine learning or web development.\n",
    "\n",
    "Community Support: Python has a vibrant community of developers who contribute to various libraries. This means that there are often multiple libraries available for a given task, allowing developers to choose the one that best fits their needs.\n",
    "\n",
    "Reliability: Established Python libraries are typically well-tested and maintained, which increases their reliability and reduces the likelihood of errors.\n",
    "\n",
    "Compatibility: Python libraries are designed to work seamlessly with other Python code, making it easy to integrate them into existing projects.\n",
    "\n",
    "Overall, Python libraries are essential tools for developers that enable them to build robust and feature-rich applications more efficiently."
   ]
  },
  {
   "cell_type": "markdown",
   "id": "1bef0c1a-3fb6-43a8-b310-e2f2a05f0d58",
   "metadata": {},
   "source": [
    "# 2. What is the difference between Numpy array and List?\n",
    "\n",
    "\n",
    "\n",
    "\n",
    "NumPy arrays and Python lists are both used to store collections of data, but they have some key differences:\n",
    "\n",
    "Data Types:\n",
    "\n",
    "In a Python list, you can store heterogeneous data types (e.g., integers, floats, strings) together.\n",
    "NumPy arrays are homogeneous; they can only store elements of the same data type. This allows for more efficient storage and computation, as NumPy arrays use contiguous blocks of memory.\n",
    "Performance:\n",
    "\n",
    "NumPy arrays typically offer better performance for numerical computations compared to Python lists. This is because NumPy arrays are implemented in C and are optimized for operations such as element-wise arithmetic, matrix operations, and linear algebra.\n",
    "Python lists are more flexible but are slower for numerical computations, especially when dealing with large datasets.\n",
    "Size and Memory Efficiency:\n",
    "\n",
    "NumPy arrays require less memory compared to Python lists, especially when dealing with large datasets, due to their homogeneous nature and efficient memory allocation.\n",
    "Python lists are more memory-inefficient because they store additional information such as type information and references to objects.\n",
    "Functionality:\n",
    "\n",
    "NumPy arrays offer a wide range of mathematical functions and operations optimized for numerical computations, such as element-wise arithmetic, statistical operations, and linear algebra.\n",
    "Python lists offer more flexibility and a wider range of built-in methods for general-purpose manipulation, such as adding or removing elements, slicing, and concatenation.\n",
    "In summary, NumPy arrays are optimized for numerical computations and offer better performance and memory efficiency compared to Python lists, while Python lists are more flexible and versatile but are generally slower for numerical operations.\n"
   ]
  },
  {
   "cell_type": "code",
   "execution_count": 2,
   "id": "a156d91d-6a28-4562-9adf-b09707c3e9f4",
   "metadata": {},
   "outputs": [
    {
     "name": "stdout",
     "output_type": "stream",
     "text": [
      "Shape: (3, 4)\n",
      "Size: 12\n",
      "Dimension: 2\n"
     ]
    }
   ],
   "source": [
    "# 3. Find the shape, size and dimension of the following array?\n",
    "\n",
    "\"\"\"[[1, 2, 3, 4]\n",
    "    [5, 6, 7, 8],\n",
    "    [9, 10, 11, 12]] \"\"\"\n",
    "\n",
    "# To find the shape, size, and dimension of the given array, we can use NumPy, assuming the array is represented using NumPy arrays. Here's how you can do it:\n",
    "\n",
    "\n",
    "\n",
    "import numpy as np\n",
    "\n",
    "# Define the array\n",
    "arr = np.array([[1, 2, 3, 4],\n",
    "                [5, 6, 7, 8],\n",
    "                [9, 10, 11, 12]])\n",
    "\n",
    "# Find shape\n",
    "shape = arr.shape\n",
    "\n",
    "# Find size\n",
    "size = arr.size\n",
    "\n",
    "# Find dimension\n",
    "dimension = arr.ndim\n",
    "\n",
    "print(\"Shape:\", shape)\n",
    "print(\"Size:\", size)\n",
    "print(\"Dimension:\", dimension)\n",
    "\n"
   ]
  },
  {
   "cell_type": "markdown",
   "id": "5730723b-4c9a-46cb-89fd-99a1fe6dc86f",
   "metadata": {},
   "source": [
    "Explanation:\n",
    "\n",
    "Shape: The shape of the array is (3, 4), meaning it has 3 rows and 4 columns.\n",
    "Size: The size of the array is 12, which is the total number of elements in the array.\n",
    "Dimension: The dimension of the array is 2, indicating it is a 2-dimensional array.\n",
    "\n",
    "\n",
    "\n"
   ]
  },
  {
   "cell_type": "code",
   "execution_count": 3,
   "id": "d217af4c-ff6b-497d-91a7-92bbdbc88d8d",
   "metadata": {},
   "outputs": [
    {
     "name": "stdout",
     "output_type": "stream",
     "text": [
      "First Row: [1 2 3 4]\n"
     ]
    }
   ],
   "source": [
    "# 4. Write python code to access the first row of the following array?\n",
    "\n",
    "\"\"\"[[1, 2, 3, 4]   \n",
    "   [5, 6, 7, 8],\n",
    "   [9, 10, 11, 12]] \"\"\"\n",
    "\n",
    "# To access the first row of the given array, you can use array indexing. In Python, array indexing starts from 0. Here's how ywe can access the first row:\n",
    "\n",
    "\n",
    "import numpy as np\n",
    "\n",
    "# Define the array\n",
    "arr = np.array([[1, 2, 3, 4],\n",
    "                [5, 6, 7, 8],\n",
    "                [9, 10, 11, 12]])\n",
    "\n",
    "# Access the first row\n",
    "first_row = arr[0]\n",
    "\n",
    "print(\"First Row:\", first_row)\n"
   ]
  },
  {
   "cell_type": "markdown",
   "id": "4ae57ab9-758b-4ca4-863d-a0493f17df4b",
   "metadata": {},
   "source": [
    "Explanation:-\n",
    "\n",
    "Import NumPy: We import the NumPy library, which is a popular Python library used for numerical computing. NumPy provides support for large, multi-dimensional arrays and matrices, along with a collection of mathematical functions to operate on these arrays efficiently.\n",
    "\n",
    "Define the array: We define the array as a NumPy array. In this case, it's a 2-dimensional array with 3 rows and 4 columns. Each row represents a list of numbers, and the entire structure forms a grid-like arrangement.\n",
    "\n",
    "Access the first row: To access the first row of the array, we use array indexing. In Python, array indexing starts from 0, so the first row has an index of 0. By using arr[0], we retrieve the first row of the array arr.\n",
    "\n",
    "Print the first row: Finally, we print the first row to see the result. The output displays the elements of the first row enclosed within square brackets. Each number corresponds to an element in the first row of the array arr.\n",
    "\n",
    "By following these steps, we are able to access and display the first row of the given array. This method allows us to selectively access specific rows or columns of a NumPy array, enabling efficient manipulation and analysis of data stored in arrays."
   ]
  },
  {
   "cell_type": "code",
   "execution_count": 4,
   "id": "935c7eb8-8a64-413f-8c61-e7f2920ac311",
   "metadata": {},
   "outputs": [
    {
     "name": "stdout",
     "output_type": "stream",
     "text": [
      "Element at third row and fourth column: 12\n"
     ]
    }
   ],
   "source": [
    "# 5. How do you access the element at the third row and fourth column from the given numpy array?\n",
    "\n",
    "\"\"\"[[1, 2, 3, 4]\n",
    "   [5, 6, 7, 8],\n",
    "   [9, 10, 11, 12]]\"\"\"   \n",
    "\n",
    "\n",
    "# To access the element at the third row and fourth column from the given NumPy array, you can use array indexing. Remember that indexing in Python starts from 0, so the third row and fourth column will have indices 2 and 3 respectively. \n",
    "\n",
    "\n",
    "import numpy as np\n",
    "\n",
    "# Define the array\n",
    "arr = np.array([[1, 2, 3, 4],\n",
    "                [5, 6, 7, 8],\n",
    "                [9, 10, 11, 12]])\n",
    "\n",
    "# Access the element at the third row and fourth column\n",
    "element = arr[2, 3]\n",
    "\n",
    "print(\"Element at third row and fourth column:\", element)\n"
   ]
  },
  {
   "cell_type": "markdown",
   "id": "5768c793-2f6e-491a-af72-4f3151986590",
   "metadata": {},
   "source": [
    "Explanation:-\n",
    "\n",
    "Import NumPy: NumPy is a Python library used for numerical computing. We import it using the import statement and assign it the alias np, which is a common convention.\n",
    "\n",
    "Define the array: We define a 2-dimensional NumPy array using the np.array() function. This array is structured with 3 rows and 4 columns, as specified in the question.\n",
    "\n",
    "Accessing elements: To access a specific element in a NumPy array, we use array indexing. The element at the third row and fourth column can be accessed using the syntax array[row_index, column_index]. Since indexing in Python starts from 0, the third row has an index of 2 and the fourth column has an index of 3.\n",
    "\n",
    "Printing the element: After accessing the desired element, we print it to the console using the print() function.\n",
    "\n",
    "Output: The output displays the value of the element at the specified position in the array. In this case, the output shows the value 12, which is the element at the third row and fourth column of the array.\n",
    "\n",
    "By following these steps, we can effectively access and retrieve specific elements from a NumPy array, enabling us to manipulate and analyze data stored in arrays."
   ]
  },
  {
   "cell_type": "code",
   "execution_count": 5,
   "id": "86c4f080-be3b-48f9-8f1e-06c68bb255cb",
   "metadata": {},
   "outputs": [
    {
     "name": "stdout",
     "output_type": "stream",
     "text": [
      "Odd-indexed elements:\n",
      "[[ 2  4]\n",
      " [ 6  8]\n",
      " [10 12]]\n"
     ]
    }
   ],
   "source": [
    "# 6. Write code to extract all odd-indexed elements from the given numpy array?\n",
    "\n",
    "\n",
    "\"\"\"[[1, 2, 3, 4]\n",
    "   [5, 6, 7, 8],\n",
    "   [9, 10, 11, 12]] \"\"\"   \n",
    "\n",
    "\n",
    "# To extract all odd-indexed elements from the given NumPy array, you can use array slicing. Remember that indexing in Python starts from 0, so odd-indexed elements will have indices 1, 3, 5, and so on. \n",
    "\n",
    "\n",
    "import numpy as np\n",
    "\n",
    "# Define the array\n",
    "arr = np.array([[1, 2, 3, 4],\n",
    "                [5, 6, 7, 8],\n",
    "                [9, 10, 11, 12]])\n",
    "\n",
    "# Extract all odd-indexed elements\n",
    "odd_indexed_elements = arr[:, 1::2]\n",
    "\n",
    "print(\"Odd-indexed elements:\")\n",
    "print(odd_indexed_elements)\n"
   ]
  },
  {
   "cell_type": "markdown",
   "id": "2a71097d-2bdf-44f9-bf0f-4d8b7e60a614",
   "metadata": {},
   "source": [
    "Explanation:-\n",
    "\n",
    "Import NumPy: NumPy is a Python library used for numerical computing. We import it using the import statement and assign it the alias np, which is a common convention.\n",
    "\n",
    "Define the array: We define a 2-dimensional NumPy array using the np.array() function. This array is structured with 3 rows and 4 columns, as specified in the question.\n",
    "\n",
    "Extracting odd-indexed elements: To extract all odd-indexed elements from the array, we use array slicing. Array slicing allows us to extract portions of arrays based on specified indices or ranges. In this case, we want to extract elements from all rows but only from columns with odd indices.\n",
    "\n",
    "Array slicing syntax: The slicing syntax [:, 1::2] indicates that we want to include all rows (: before the comma) and select columns starting from index 1 (1::2) with a step size of 2. This means we start from the second column (index 1) and include every other column, effectively selecting only the odd-indexed columns.\n",
    "\n",
    "Printing the extracted elements: After extracting the odd-indexed elements, we print them to the console using the print() function.\n",
    "\n",
    "Output: The output displays the elements extracted from each row of the array. Each row in the output corresponds to a row from the original array, but only odd-indexed elements are retained. This allows us to effectively filter and extract specific elements from the array based on their indices.\n",
    "\n",
    "By following these steps, we are able to extract all odd-indexed elements from the given NumPy array, enabling us to manipulate and analyze data stored in arrays effectively.\n",
    "\n",
    "\n",
    "\n",
    "\n"
   ]
  },
  {
   "cell_type": "code",
   "execution_count": 6,
   "id": "d170e868-d36c-4763-9619-1ae42a03cf4b",
   "metadata": {},
   "outputs": [
    {
     "name": "stdout",
     "output_type": "stream",
     "text": [
      "Random 3x3 matrix with values between 0 and 1:\n",
      "[[0.66911709 0.55386114 0.90166129]\n",
      " [0.72439552 0.46417954 0.89044053]\n",
      " [0.86922291 0.07975319 0.95120599]]\n"
     ]
    }
   ],
   "source": [
    "# 7. How can you generate a random 3x3 matrix with values between 0 and 1?\n",
    "\n",
    "# To generate a random 3x3 matrix with values between 0 and 1, you can use the numpy.random.rand() function from the NumPy library. This function generates an array of random numbers from a uniform distribution over the interval [0, 1). \n",
    "\n",
    "\n",
    "import numpy as np\n",
    "\n",
    "# Generate a random 3x3 matrix with values between 0 and 1\n",
    "random_matrix = np.random.rand(3, 3)\n",
    "\n",
    "print(\"Random 3x3 matrix with values between 0 and 1:\")\n",
    "print(random_matrix)\n"
   ]
  },
  {
   "cell_type": "markdown",
   "id": "1084bd50-95b9-4024-ae88-157b4b90b0dd",
   "metadata": {},
   "source": [
    "Explanation:\n",
    "\n",
    "np.random.rand(3, 3) generates a 3x3 array of random numbers between 0 and 1. The function rand() generates samples from a uniform distribution over the interval [0, 1).\n",
    "The generated random matrix is stored in the variable random_matrix.\n",
    "Finally, we print the random matrix to the console using the print() function.\n",
    "\n",
    "\n",
    "\n"
   ]
  },
  {
   "cell_type": "markdown",
   "id": "9835e9fb-a4c9-4bf4-b7eb-443d55692ec7",
   "metadata": {},
   "source": [
    "# 8. Describe the difference between np.random.rand and np.random.randn?\n",
    "\n",
    "\n",
    "The difference between np.random.rand and np.random.randn lies in the distribution of the generated random numbers:\n",
    "\n",
    "np.random.rand:\n",
    "\n",
    "This function generates random numbers from a uniform distribution over the interval [0, 1).\n",
    "When you call np.random.rand, it returns random numbers from a uniform distribution, meaning that each value has an equal probability of being selected from the range [0, 1).\n",
    "The syntax for generating random numbers using np.random.rand is np.random.rand(d0, d1, ..., dn) where d0, d1, ..., dn specify the dimensions of the output array.\n",
    "Example: np.random.rand(3, 3) generates a 3x3 array of random numbers between 0 and 1.\n",
    "np.random.randn:\n",
    "\n",
    "This function generates random numbers from a standard normal distribution (mean=0, standard deviation=1).\n",
    "When you call np.random.randn, it returns random numbers from a normal distribution centered around 0 with a standard deviation of 1.\n",
    "The syntax for generating random numbers using np.random.randn is similar to np.random.rand: np.random.randn(d0, d1, ..., dn) where d0, d1, ..., dn specify the dimensions of the output array.\n",
    "Example: np.random.randn(3, 3) generates a 3x3 array of random numbers from a standard normal distribution.\n",
    "In summary:\n",
    "\n",
    "np.random.rand generates random numbers from a uniform distribution over the interval [0, 1).\n",
    "np.random.randn generates random numbers from a standard normal distribution with mean=0 and standard deviation=1.\n"
   ]
  },
  {
   "cell_type": "code",
   "execution_count": 7,
   "id": "1cc9921f-6cc2-44f2-833f-368dac7df97b",
   "metadata": {},
   "outputs": [
    {
     "name": "stdout",
     "output_type": "stream",
     "text": [
      "Original array shape: (3, 4)\n",
      "Expanded array shape: (1, 3, 4)\n",
      "Expanded array:\n",
      "[[[ 1  2  3  4]\n",
      "  [ 5  6  7  8]\n",
      "  [ 9 10 11 12]]]\n"
     ]
    }
   ],
   "source": [
    "# 9. Write code to increase the dimension of the following array?\n",
    "\n",
    "\"\"\"[[1, 2, 3, 4]\n",
    "   [5, 6, 7, 8],\n",
    "   [9, 10, 11, 12]] \"\"\"   \n",
    "\n",
    "\n",
    "# To increase the dimension of the given array, you can use NumPy's np.expand_dims() function. This function adds a new axis at the specified position in the array, effectively increasing its dimension. \n",
    "\n",
    "import numpy as np\n",
    "\n",
    "# Define the array\n",
    "arr = np.array([[1, 2, 3, 4],\n",
    "                [5, 6, 7, 8],\n",
    "                [9, 10, 11, 12]])\n",
    "\n",
    "# Increase the dimension of the array\n",
    "expanded_arr = np.expand_dims(arr, axis=0)\n",
    "\n",
    "print(\"Original array shape:\", arr.shape)\n",
    "print(\"Expanded array shape:\", expanded_arr.shape)\n",
    "print(\"Expanded array:\")\n",
    "print(expanded_arr)\n"
   ]
  },
  {
   "cell_type": "markdown",
   "id": "b3ca346d-357a-40ee-8574-478b53e506e2",
   "metadata": {},
   "source": [
    "Explanation:\n",
    "\n",
    "np.expand_dims(arr, axis=0) adds a new axis at position 0, effectively increasing the dimension of the array by 1.\n",
    "The original array arr has a shape of (3, 4), meaning it has 3 rows and 4 columns.\n",
    "The expanded array expanded_arr has a shape of (1, 3, 4), indicating that it has been expanded to have 1 dimension along the first axis, while maintaining the original dimensions along the remaining axes.\n",
    "The expanded array now has an additional outermost dimension, making it a 3-dimensional array.\n",
    "\n",
    "\n",
    "\n"
   ]
  },
  {
   "cell_type": "code",
   "execution_count": 8,
   "id": "41ca61ed-e59f-4f19-931d-67874812424d",
   "metadata": {},
   "outputs": [
    {
     "name": "stdout",
     "output_type": "stream",
     "text": [
      "Original array:\n",
      "[[ 1  2  3  4]\n",
      " [ 5  6  7  8]\n",
      " [ 9 10 11 12]]\n",
      "\n",
      "Transposed array:\n",
      "[[ 1  5  9]\n",
      " [ 2  6 10]\n",
      " [ 3  7 11]\n",
      " [ 4  8 12]]\n"
     ]
    }
   ],
   "source": [
    "# 10. How to transpose the following array in NumPy?\n",
    "\n",
    "\"\"\"[[1, 2, 3, 4]\n",
    "   [5, 6, 7, 8],\n",
    "   [9, 10, 11, 12]] \"\"\"   \n",
    "\n",
    "\n",
    "# In NumPy, you can transpose an array using the .T attribute or the np.transpose() function\n",
    "\n",
    "\n",
    "import numpy as np\n",
    "\n",
    "# Define the array\n",
    "arr = np.array([[1, 2, 3, 4],\n",
    "                [5, 6, 7, 8],\n",
    "                [9, 10, 11, 12]])\n",
    "\n",
    "# Transpose the array using .T attribute\n",
    "transposed_arr = arr.T\n",
    "\n",
    "# Alternatively, transpose the array using np.transpose() function\n",
    "# transposed_arr = np.transpose(arr)\n",
    "\n",
    "print(\"Original array:\")\n",
    "print(arr)\n",
    "print(\"\\nTransposed array:\")\n",
    "print(transposed_arr)\n"
   ]
  },
  {
   "cell_type": "markdown",
   "id": "3ed34d14-3f64-4c6a-90e7-3f3af87f915b",
   "metadata": {},
   "source": [
    "Explanation:-\n",
    "\n",
    "Transposition of Arrays: Transposing an array involves flipping the array along its diagonal, effectively swapping its rows and columns.\n",
    "\n",
    "Using NumPy Functions: NumPy provides convenient functions for array manipulation, including transposition. Two common methods to transpose an array in NumPy are:\n",
    "\n",
    "Using .T Attribute: NumPy arrays have a .T attribute, which returns the transpose of the array. This is achieved by flipping the rows and columns of the array.\n",
    "\n",
    "Using np.transpose() Function: Alternatively, you can use the np.transpose() function to transpose an array. This function takes the array as input and returns its transpose.\n",
    "\n",
    "Result: After transposing the array, the dimensions are swapped. For example, a 3x4 array becomes a 4x3 array after transposition.\n",
    "\n",
    "Output: The transposed array contains the same elements as the original array, but their positions are rearranged. Each element's position in the transposed array corresponds to the reverse position of its corresponding element in the original array.\n",
    "\n",
    "By transposing arrays, we can efficiently manipulate and analyze data, especially in mathematical and scientific computations where rearranging dimensions can be beneficial.\n",
    "\n",
    "\n",
    "\n",
    "\n",
    "\n"
   ]
  },
  {
   "cell_type": "code",
   "execution_count": 9,
   "id": "f15043d7-1c0a-429e-9af3-98c723a6757e",
   "metadata": {},
   "outputs": [
    {
     "name": "stdout",
     "output_type": "stream",
     "text": [
      "Element-wise addition of A2 and B2:\n",
      "[[ 2  4  6  8]\n",
      " [10 12 14 16]\n",
      " [18 20 22 24]]\n",
      "\n",
      "Element-wise subtraction of B2 from A2:\n",
      "[[0 0 0 0]\n",
      " [0 0 0 0]\n",
      " [0 0 0 0]]\n",
      "\n",
      "Matrix multiplication of A2 and B2 (transposed):\n",
      "[[ 30  70 110]\n",
      " [ 70 174 278]\n",
      " [110 278 446]]\n",
      "\n",
      "Matrix division of B2 by A2:\n",
      "[[1. 1. 1. 1.]\n",
      " [1. 1. 1. 1.]\n",
      " [1. 1. 1. 1.]]\n"
     ]
    }
   ],
   "source": [
    "# 11. Consider the following matrix:\n",
    "\n",
    "\"\"\"11. Consider the following matrix:\n",
    "\n",
    "       Matrix A2 [[1, 2, 3, 4] [5, 6, 7, 8],[9, 10, 11, 12]]\n",
    "       Matrix B2 [[1, 2, 3, 4] [5, 6, 7, 8],[9, 10, 11, 12]]\n",
    "       Perform the following operation using Python1\n",
    "       ,+ I(dex wiLe multiplicatio'\n",
    "       ]+ Matix multiplicatio'\n",
    "       + Add both the maticK\n",
    "       -+ Subtact matix B om \n",
    "       + Diide Matix B by A        \"\"\"\n",
    "\n",
    "\n",
    "\n",
    "# To perform the given operations on matrices A2 and B2 using Python and NumPy, we will follow these steps:\n",
    "\n",
    "\"\"\"Define the matrices A2 and B2.\n",
    "Perform element-wise addition (+) of the matrices A2 and B2.\n",
    "Perform element-wise subtraction (-) of the matrix B2 from A2.\n",
    "Perform matrix multiplication (*) of the matrices A2 and B2.\n",
    "Perform matrix division (/) of matrix B2 by A2.\"\"\"\n",
    "\n",
    "\n",
    "\n",
    "import numpy as np\n",
    "\n",
    "# Define Matrix A2\n",
    "A2 = np.array([[1,  2,  3,  4],\n",
    "               [5,  6,  7,  8],\n",
    "               [9, 10, 11, 12]])\n",
    "\n",
    "# Define Matrix B2 (same as A2)\n",
    "B2 = np.array([[1,  2,  3,  4],\n",
    "               [5,  6,  7,  8],\n",
    "               [9, 10, 11, 12]])\n",
    "\n",
    "# Perform element-wise addition\n",
    "addition_result = A2 + B2\n",
    "print(\"Element-wise addition of A2 and B2:\")\n",
    "print(addition_result)\n",
    "\n",
    "# Perform element-wise subtraction\n",
    "subtraction_result = A2 - B2\n",
    "print(\"\\nElement-wise subtraction of B2 from A2:\")\n",
    "print(subtraction_result)\n",
    "\n",
    "# Perform matrix multiplication\n",
    "matrix_multiplication_result = np.dot(A2, B2.T)\n",
    "print(\"\\nMatrix multiplication of A2 and B2 (transposed):\")\n",
    "print(matrix_multiplication_result)\n",
    "\n",
    "# Perform matrix division\n",
    "matrix_division_result = B2 / A2\n",
    "print(\"\\nMatrix division of B2 by A2:\")\n",
    "print(matrix_division_result)\n",
    "\n"
   ]
  },
  {
   "cell_type": "markdown",
   "id": "0697710e-c8dd-4715-abcd-24fbe8d2ef5b",
   "metadata": {},
   "source": [
    "Explanation:-\n",
    "\n",
    "Element-wise Addition (+):\n",
    "\n",
    "Element-wise addition involves adding corresponding elements of two matrices.\n",
    "For example, to add matrices A2 and B2, you simply add each element of A2 to the corresponding element of B2.\n",
    "The resulting matrix will have the same dimensions as the original matrices, and each element in the result will be the sum of the corresponding elements from A2 and B2.\n",
    "Element-wise Subtraction (-):\n",
    "\n",
    "Element-wise subtraction involves subtracting corresponding elements of two matrices.\n",
    "For example, to subtract matrix B2 from matrix A2, you subtract each element of B2 from the corresponding element of A2.\n",
    "The resulting matrix will have the same dimensions as the original matrices, and each element in the result will be the difference between the corresponding elements of A2 and B2.\n",
    "Matrix Multiplication (*):\n",
    "\n",
    "Matrix multiplication, also known as the dot product, involves multiplying corresponding elements of rows and columns of two matrices and summing the results.\n",
    "To perform matrix multiplication, the number of columns in the first matrix must equal the number of rows in the second matrix.\n",
    "The resulting matrix will have dimensions equal to the number of rows of the first matrix and the number of columns of the second matrix.\n",
    "Matrix Division (/):\n",
    "\n",
    "Matrix division involves dividing corresponding elements of two matrices.\n",
    "For example, to divide matrix B2 by matrix A2, you divide each element of B2 by the corresponding element of A2.\n",
    "Note that division by zero is not allowed, so you need to ensure that A2 does not contain zero elements where division is performed.\n",
    "The resulting matrix will have the same dimensions as the original matrices, and each element in the result will be the quotient of the corresponding elements of B2 and A2.\n",
    "These operations are fundamental in matrix algebra and are often used in various mathematical and scientific applications for data manipulation and analysis.\n"
   ]
  },
  {
   "cell_type": "code",
   "execution_count": 10,
   "id": "fe5d45b5-569f-43f4-9525-42ed8f73168f",
   "metadata": {},
   "outputs": [
    {
     "name": "stdout",
     "output_type": "stream",
     "text": [
      "Original array:\n",
      "[  1 256]\n",
      "\n",
      "Array with byte order swapped:\n",
      "[256   1]\n"
     ]
    }
   ],
   "source": [
    "# 12. Which function in Numpy can be used to swap the byte order of an array?\n",
    "\n",
    "# In NumPy, you can use the byteswap() function to swap the byte order of an array. This function creates a view of the array with the byte order swapped\n",
    "\n",
    "\n",
    "import numpy as np\n",
    "\n",
    "# Create an array with a specified byte order\n",
    "arr = np.array([1, 256], dtype=np.int16)\n",
    "\n",
    "# Swap the byte order of the array\n",
    "swapped_arr = arr.byteswap()\n",
    "\n",
    "print(\"Original array:\")\n",
    "print(arr)\n",
    "print(\"\\nArray with byte order swapped:\")\n",
    "print(swapped_arr)\n"
   ]
  },
  {
   "cell_type": "markdown",
   "id": "2e581950-c2a6-4b21-a6d0-da15956391c3",
   "metadata": {},
   "source": [
    "Explanation:-\n",
    "\n",
    "\n",
    "Certainly! Here's the detailed explanation in theory:\n",
    "\n",
    "In NumPy, the byteswap() function is used to swap the byte order of the elements in an array. This operation can be useful when working with data that is stored in a different byte order than the one expected by your system. Here's how the function works:\n",
    "\n",
    "Byte Order in NumPy:\n",
    "\n",
    "NumPy arrays have a specific byte order, which determines how the elements are stored in memory.\n",
    "The byte order can be either little-endian (least significant byte stored first) or big-endian (most significant byte stored first).\n",
    "By default, NumPy arrays have the same byte order as the system they are created on.\n",
    "Swapping Byte Order:\n",
    "\n",
    "The byteswap() function in NumPy creates a view of the array with the byte order swapped.\n",
    "This means that the least significant byte becomes the most significant byte, and vice versa, for each element in the array.\n",
    "The function operates element-wise on the array, swapping the byte order of each individual element.\n",
    "Usage:\n",
    "\n",
    "To use the byteswap() function, you simply call it on the array you want to modify.\n",
    "It returns a new array with the byte order swapped, while the original array remains unchanged.\n",
    "You can also specify the byte order explicitly using the byteorder parameter, which allows you to swap the byte order to a specific format.\n",
    "Example:\n",
    "\n",
    "For example, if you have an array [1, 256] of data type int16, where each element is represented by 2 bytes:\n",
    "In little-endian byte order, the bytes for 1 are [0x01, 0x00] and for 256 are [0x00, 0x01].\n",
    "In big-endian byte order, the bytes for 1 are [0x00, 0x01] and for 256 are [0x01, 0x00].\n",
    "After applying byteswap(), the byte order of each element is swapped, resulting in [256, 1].\n",
    "Conclusion:\n",
    "\n",
    "The byteswap() function in NumPy provides a convenient way to handle data with different byte orders, ensuring compatibility and consistency when working with arrays across different systems.\n",
    "\n",
    "\n",
    "\n"
   ]
  },
  {
   "cell_type": "markdown",
   "id": "39cdab81-7fc5-4dfb-8ece-91d1b0a3b7ba",
   "metadata": {},
   "source": [
    "# 13. What is the significance of the np.linalg.inv function?\n",
    "\n",
    "# The np.linalg.inv function in NumPy is used to compute the multiplicative inverse of a square matrix. \n",
    "\n",
    "\n",
    "Matrix Inversion:\n",
    "\n",
    "In linear algebra, the inverse of a square matrix A, denoted as A^(-1), is a matrix that, when multiplied by A, results in the identity matrix. In other words, A * A^(-1) = I, where I is the identity matrix.\n",
    "Finding the inverse of a matrix is crucial in various mathematical computations and systems of linear equations.\n",
    "Solving Linear Systems:\n",
    "\n",
    "The inverse of a matrix can be used to solve systems of linear equations of the form Ax = b, where A is the coefficient matrix, x is the vector of unknowns, and b is the vector of constants.\n",
    "By multiplying both sides of the equation by the inverse of A, you can solve for x: x = A^(-1) * b.\n",
    "Numerical Stability:\n",
    "\n",
    "The np.linalg.inv function provides a numerically stable way to compute the inverse of a matrix.\n",
    "Inverting matrices directly can be numerically unstable, especially if the matrix is ill-conditioned or close to singular. The np.linalg.inv function handles these cases efficiently.\n",
    "Applications:\n",
    "\n",
    "Matrix inversion is used in various applications such as least squares regression, optimization problems, solving linear systems in physics and engineering, and inverting matrices in computer graphics and image processing algorithms.\n",
    "Caution:\n",
    "\n",
    "It's important to note that not all matrices have an inverse. A matrix must be square and non-singular (i.e., its determinant must be non-zero) to have an inverse.\n",
    "Additionally, even if a matrix has an inverse, numerical errors can occur when computing the inverse, especially for matrices that are close to singular.\n"
   ]
  },
  {
   "cell_type": "code",
   "execution_count": 11,
   "id": "a05ae8cf-ca9f-4fe5-bb18-6bf1d8852cba",
   "metadata": {},
   "outputs": [
    {
     "data": {
      "text/plain": [
       "\" View vs Copy:\\n\\nIt's important to note that np.reshape returns a view of the original array if possible, rather than creating a new array. This means that the data is not copied, and modifications to the reshaped array will affect the original array as well, and vice versa, as long as they share the same memory. \""
      ]
     },
     "execution_count": 11,
     "metadata": {},
     "output_type": "execute_result"
    }
   ],
   "source": [
    "# 14. What does the np.reshape function do, and how is it used?\n",
    "\n",
    "# The np.reshape function in NumPy is used to change the shape of an array without changing its data. It allows you to rearrange the elements of an array into a new shape while maintaining the same data.\n",
    "\n",
    "\n",
    "\"\"\" Changing Array Shape:\n",
    "\n",
    "The np.reshape function changes the shape of an array by rearranging its elements into a new shape.\n",
    "The new shape specified must be compatible with the number of elements in the original array. In other words, the total number of elements in the original array must be equal to the total number of elements in the new shape.\n",
    "Syntax:\n",
    "\n",
    "The syntax for np.reshape is np.reshape(array, new_shape).\n",
    "array is the original array whose shape you want to change.\n",
    "new_shape is a tuple specifying the new shape of the array.\n",
    "Usage:\n",
    "\n",
    "You can use np.reshape to convert a 1-dimensional array into a multi-dimensional array or vice versa, or to change the shape of a multi-dimensional array. \"\"\"\n",
    "\n",
    "\n",
    "\n",
    "import numpy as np\n",
    "\n",
    "# Create a 1D array\n",
    "arr1d = np.array([1, 2, 3, 4, 5, 6])\n",
    "\n",
    "# Reshape the 1D array into a 2D array with 2 rows and 3 columns\n",
    "arr2d = np.reshape(arr1d, (2, 3))\n",
    "\n",
    "\n",
    "\"\"\" Order Argument:\n",
    "\n",
    "The np.reshape function also has an optional order argument, which specifies the order in which the elements are read from and written to memory. It can be 'C' (row-major) or 'F' (column-major). By default, it uses 'C' order. \"\"\"\n",
    "\n",
    "# Reshape the array with 'F' order\n",
    "arr2d_f_order = np.reshape(arr1d, (2, 3), order='F')\n",
    "\n",
    "\n",
    "\"\"\" View vs Copy:\n",
    "\n",
    "It's important to note that np.reshape returns a view of the original array if possible, rather than creating a new array. This means that the data is not copied, and modifications to the reshaped array will affect the original array as well, and vice versa, as long as they share the same memory. \"\"\"\n",
    "\n"
   ]
  },
  {
   "cell_type": "code",
   "execution_count": 12,
   "id": "323f4a5b-2887-4053-a59e-f1f38621df10",
   "metadata": {},
   "outputs": [],
   "source": [
    "# 15. What is broadcasting in Numpy?\n",
    "\n",
    "\n",
    "\n",
    "import numpy as np\n",
    "\n",
    "# Create two arrays with different shapes\n",
    "arr1 = np.array([[1, 2, 3], [4, 5, 6]])\n",
    "arr2 = np.array([10, 20, 30])\n",
    "\n",
    "# Perform element-wise addition using broadcasting\n",
    "result = arr1 + arr2\n",
    "\n",
    "# The array arr2 is broadcasted to match the shape of arr1\n"
   ]
  },
  {
   "cell_type": "markdown",
   "id": "e84af81d-cd38-4d57-893f-a906d6f79c67",
   "metadata": {},
   "source": [
    "Explanation:-\n",
    "\n",
    "Broadcasting in NumPy is a powerful mechanism that allows arrays of different shapes to be combined and operated upon together, even if their shapes do not match exactly. It enables NumPy to perform element-wise operations on arrays with different shapes, without the need for explicit loops. Here's an explanation of broadcasting:\n",
    "\n",
    "Shapes Compatibility:\n",
    "\n",
    "Broadcasting occurs when NumPy automatically adjusts the shapes of arrays to make them compatible for element-wise operations.\n",
    "Two arrays are compatible for broadcasting if their shapes are compatible or if one of them can be broadcasted to match the shape of the other.\n",
    "Broadcasting Rules:\n",
    "\n",
    "Broadcasting follows a set of rules to determine how arrays with different shapes are aligned and combined:\n",
    "Rule 1: If the arrays have a different number of dimensions, the shape of the array with fewer dimensions is padded with ones on its left side.\n",
    "Rule 2: If the shape of any dimension in either array does not match, and one of them is 1, then the array with size 1 is stretched to match the shape of the other array along that dimension.\n",
    "Rule 3: If the shapes of the arrays do not match and neither array has size 1 along any dimension, then broadcasting is not possible, and NumPy raises a ValueError."
   ]
  },
  {
   "cell_type": "code",
   "execution_count": null,
   "id": "1e40776c-3022-4f23-9fcb-eb269506aeb7",
   "metadata": {},
   "outputs": [],
   "source": []
  }
 ],
 "metadata": {
  "kernelspec": {
   "display_name": "Python 3 (ipykernel)",
   "language": "python",
   "name": "python3"
  },
  "language_info": {
   "codemirror_mode": {
    "name": "ipython",
    "version": 3
   },
   "file_extension": ".py",
   "mimetype": "text/x-python",
   "name": "python",
   "nbconvert_exporter": "python",
   "pygments_lexer": "ipython3",
   "version": "3.10.8"
  }
 },
 "nbformat": 4,
 "nbformat_minor": 5
}
